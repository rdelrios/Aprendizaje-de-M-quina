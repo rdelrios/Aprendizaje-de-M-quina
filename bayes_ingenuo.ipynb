{
 "cells": [
  {
   "cell_type": "markdown",
   "metadata": {},
   "source": [
    "# Bayes ingenuo\n",
    "\n",
    "Este programa clasifica correos electrónicos como spam o ham utilizando el alrogítmo de bayes ingenuo."
   ]
  },
  {
   "cell_type": "code",
   "execution_count": 1,
   "metadata": {},
   "outputs": [],
   "source": [
    "usePackage <- function(p) \n",
    "{\n",
    "  if (!is.element(p, installed.packages()[,1]))\n",
    "    install.packages(p, repos = \"https://cran.itam.mx/\")\n",
    "  suppressPackageStartupMessages(require(p, character.only = TRUE, quietly  = TRUE))\n",
    "}"
   ]
  },
  {
   "cell_type": "code",
   "execution_count": 2,
   "metadata": {},
   "outputs": [],
   "source": [
    "usePackage('R.utils')\n",
    "usePackage('tm')"
   ]
  },
  {
   "cell_type": "markdown",
   "metadata": {},
   "source": [
    "## Descarga los datos "
   ]
  },
  {
   "cell_type": "code",
   "execution_count": null,
   "metadata": {},
   "outputs": [],
   "source": [
    "download.mails <- function(url, dir_name, file_name){\n",
    "\n",
    "  if (!file.exists(dir_name)) {\n",
    "    dir.create(dir_name)  \n",
    "  }\n",
    "  \n",
    "  download.file(url, destfile=file.path(dir_name, paste0(file_name,\".tar.bz2\")) )\n",
    "  bunzip2(file.path(dir_name, paste0(file_name,\".tar.bz2\")))\n",
    "  \n",
    "  untar(file.path(dir_name, paste0(file_name,\".tar\")), exdir = dir_name)\n",
    "  \n",
    "  if (file.exists(file.path(dir_name, paste0(file_name,\".tar\")))) {\n",
    "    file.remove(file.path(dir_name, paste0(file_name,\".tar\")))\n",
    "  }\n",
    "  \n",
    "}"
   ]
  },
  {
   "cell_type": "code",
   "execution_count": null,
   "metadata": {},
   "outputs": [],
   "source": [
    "dir_name <- \"data\"\n",
    "file_name <- \"easy_ham_2\"\n",
    "url <- \"http://spamassassin.apache.org/old/publiccorpus/20030228_easy_ham_2.tar.bz2\"\n",
    "\n",
    "download.mails(url, dir_name, file_name)"
   ]
  },
  {
   "cell_type": "code",
   "execution_count": null,
   "metadata": {},
   "outputs": [],
   "source": [
    "url <- \"http://spamassassin.apache.org/old/publiccorpus/20030228_hard_ham.tar.bz2\"\n",
    "file_name <- \"hard_ham\"\n",
    "\n",
    "download.mails(url, dir_name, file_name)"
   ]
  },
  {
   "cell_type": "code",
   "execution_count": null,
   "metadata": {},
   "outputs": [],
   "source": [
    "url <- \"http://spamassassin.apache.org/old/publiccorpus/20030228_spam_2.tar.bz2\"\n",
    "file_name <- \"spam_2\"\n",
    "\n",
    "download.mails(url, dir_name, file_name)"
   ]
  },
  {
   "cell_type": "markdown",
   "metadata": {},
   "source": [
    "## Preprocesamiento de los correos electrónicos"
   ]
  },
  {
   "cell_type": "code",
   "execution_count": 3,
   "metadata": {},
   "outputs": [],
   "source": [
    "# Hacemos una función que leea el mensaje del archivo que se le pase como parámetro\n",
    "# asumimos que el archivo contiene un correo\n",
    "\n",
    "lee_mensaje <- function(correo) {\n",
    "  fd <- file(correo, open = \"rt\")\n",
    "  lineas <- readLines(fd, warn=FALSE)\n",
    "  close(fd)\n",
    "  mensaje <- lineas[seq(which(lineas == \"\")[1] + 1, length(lineas), 1)]\n",
    "  return (paste(mensaje, collapse = \"\\n\"))\n",
    "}"
   ]
  },
  {
   "cell_type": "code",
   "execution_count": 4,
   "metadata": {},
   "outputs": [],
   "source": [
    "# Creamos variables con los directorios donde se encuentran los datos\n",
    "dir_name <- \"data\"\n",
    "trayectoria_spam     <- file.path(dir_name, \"spam_2\")\n",
    "trayectoria_easyham  <- file.path(dir_name, \"easy_ham_2\")\n",
    "trayectoria_hardham  <- file.path(dir_name, \"hard_ham\")"
   ]
  },
  {
   "cell_type": "markdown",
   "metadata": {},
   "source": [
    "### Spam"
   ]
  },
  {
   "cell_type": "code",
   "execution_count": 5,
   "metadata": {},
   "outputs": [],
   "source": [
    "# Leemos el directorio donde se encuentran los correos clasificados como spam\n",
    "archivos_correos_spam <- dir(trayectoria_spam)\n",
    "\n",
    "# quitamos el guión llamado cmds\n",
    "archivos_correos_spam <- archivos_correos_spam[which(archivos_correos_spam!=\"cmds\")] #[1:250]\n",
    "\n",
    "#archivos_correos_spam <- archivos_correos_spam[sample(1:length(archivos_correos_spam))]\n",
    "#archivos_correos_spam_training <- archivos_correos_spam[1:1000]\n",
    "#archivos_correos_spam_testing <- archivos_correos_spam[1001:length(archivos_correos_spam)]\n",
    "archivos_correos_spam <- archivos_correos_spam[sample(1:250)]\n",
    "archivos_correos_spam_training <- archivos_correos_spam[1:200]\n",
    "archivos_correos_spam_testing <- archivos_correos_spam[201:250]\n",
    "\n",
    "todo_spam <- sapply(archivos_correos_spam_training,\n",
    "                   function(p) lee_mensaje(file.path(trayectoria_spam, p)))\n",
    "                    \n",
    "todo_spam <- enc2utf8(todo_spam)"
   ]
  },
  {
   "cell_type": "markdown",
   "metadata": {},
   "source": [
    "### Easy ham"
   ]
  },
  {
   "cell_type": "code",
   "execution_count": 6,
   "metadata": {},
   "outputs": [],
   "source": [
    "# Leemos el directorio donde se encuentran los correos clasificados como ham fácilmente identificables\n",
    "archivos_correos_easy_ham <- dir(trayectoria_easyham)\n",
    "\n",
    "# quitamos el guión llamado cmds\n",
    "archivos_correos_easy_ham <- archivos_correos_easy_ham[which(archivos_correos_easy_ham!=\"cmds\")] #[1:250]\n",
    "\n",
    "#archivos_correos_easy_ham <- archivos_correos_easy_ham[sample(1:length(archivos_correos_easy_ham))]\n",
    "#archivos_correos_easy_ham_training <- archivos_correos_easy_ham[1:1000]\n",
    "#archivos_correos_easy_ham_testing <- archivos_correos_easy_ham[1001:length(archivos_correos_easy_ham)]\n",
    "archivos_correos_easy_ham <- archivos_correos_easy_ham[sample(1:250)]\n",
    "archivos_correos_easy_ham_training <- archivos_correos_easy_ham[1:200]\n",
    "archivos_correos_easy_ham_testing <- archivos_correos_easy_ham[201:250]\n",
    "\n",
    "todo_easy_ham <- sapply(archivos_correos_easy_ham_training,\n",
    "                    function(p) lee_mensaje(file.path(trayectoria_easyham, p)))\n",
    "\n",
    "todo_easy_ham <- enc2utf8(todo_easy_ham)"
   ]
  },
  {
   "cell_type": "markdown",
   "metadata": {},
   "source": [
    "## Preparación de corpus y bolsa de palabras"
   ]
  },
  {
   "cell_type": "code",
   "execution_count": 7,
   "metadata": {},
   "outputs": [],
   "source": [
    "obtiene_TermDocumentMatrix <- function (vector_correos) {\n",
    "  control <- list(stopwords = TRUE,\n",
    "                removePunctuation = TRUE,\n",
    "                removeNumbers = TRUE,\n",
    "                minDocFreq = 2)\n",
    "  corpus <- Corpus(VectorSource(vector_correos))\n",
    "  return(TermDocumentMatrix(corpus, control))\n",
    "}"
   ]
  },
  {
   "cell_type": "markdown",
   "metadata": {},
   "source": [
    "### Spam"
   ]
  },
  {
   "cell_type": "code",
   "execution_count": 8,
   "metadata": {},
   "outputs": [],
   "source": [
    "spam_TDM <- obtiene_TermDocumentMatrix(todo_spam)\n",
    "\n",
    "# Crea un data frame que provee el conjunto de caracteristicas de los datos de entrenamiento SPAM\n",
    "matriz_spam <- as.matrix(spam_TDM)\n",
    "\n",
    "conteos_spam <- rowSums(matriz_spam)\n",
    "df_spam <- data.frame(cbind(names(conteos_spam),\n",
    "                            as.numeric(conteos_spam)),\n",
    "                      stringsAsFactors = FALSE)\n",
    "names(df_spam) <- c(\"terminos\", \"frecuencia\")\n",
    "df_spam$frecuencia <- as.numeric(df_spam$frecuencia)\n",
    "ocurrencias_spam <- sapply(1:nrow(matriz_spam),\n",
    "                          function(i) # Obtiene la proporcion de documentos que contiene cada palabra\n",
    "                          {\n",
    "                            length(which(matriz_spam[i, ] > 0)) / ncol(matriz_spam)\n",
    "                          })\n",
    "densidad_spam <- df_spam$frecuencia/sum(df_spam$frecuencia,na.rm = TRUE)\n",
    "\n",
    "df_spam <- transform(df_spam,\n",
    "                     densidad = densidad_spam,\n",
    "                     ocurrencias = ocurrencias_spam)"
   ]
  },
  {
   "cell_type": "code",
   "execution_count": 9,
   "metadata": {},
   "outputs": [
    {
     "data": {
      "text/html": [
       "<table class=\"dataframe\">\n",
       "<caption>A data.frame: 6 × 4</caption>\n",
       "<thead>\n",
       "\t<tr><th></th><th scope=col>terminos</th><th scope=col>frecuencia</th><th scope=col>densidad</th><th scope=col>ocurrencias</th></tr>\n",
       "\t<tr><th></th><th scope=col>&lt;chr&gt;</th><th scope=col>&lt;dbl&gt;</th><th scope=col>&lt;dbl&gt;</th><th scope=col>&lt;dbl&gt;</th></tr>\n",
       "</thead>\n",
       "<tbody>\n",
       "\t<tr><th scope=row>1</th><td>able    </td><td> 37</td><td>5.498833e-04</td><td>0.110</td></tr>\n",
       "\t<tr><th scope=row>2</th><td>address </td><td>193</td><td>2.868310e-03</td><td>0.295</td></tr>\n",
       "\t<tr><th scope=row>3</th><td>also    </td><td>102</td><td>1.515895e-03</td><td>0.160</td></tr>\n",
       "\t<tr><th scope=row>4</th><td>always  </td><td> 34</td><td>5.052982e-04</td><td>0.080</td></tr>\n",
       "\t<tr><th scope=row>5</th><td>audio   </td><td>  2</td><td>2.972342e-05</td><td>0.010</td></tr>\n",
       "\t<tr><th scope=row>6</th><td>awaiting</td><td>  2</td><td>2.972342e-05</td><td>0.010</td></tr>\n",
       "</tbody>\n",
       "</table>\n"
      ],
      "text/latex": [
       "A data.frame: 6 × 4\n",
       "\\begin{tabular}{r|llll}\n",
       "  & terminos & frecuencia & densidad & ocurrencias\\\\\n",
       "  & <chr> & <dbl> & <dbl> & <dbl>\\\\\n",
       "\\hline\n",
       "\t1 & able     &  37 & 5.498833e-04 & 0.110\\\\\n",
       "\t2 & address  & 193 & 2.868310e-03 & 0.295\\\\\n",
       "\t3 & also     & 102 & 1.515895e-03 & 0.160\\\\\n",
       "\t4 & always   &  34 & 5.052982e-04 & 0.080\\\\\n",
       "\t5 & audio    &   2 & 2.972342e-05 & 0.010\\\\\n",
       "\t6 & awaiting &   2 & 2.972342e-05 & 0.010\\\\\n",
       "\\end{tabular}\n"
      ],
      "text/markdown": [
       "\n",
       "A data.frame: 6 × 4\n",
       "\n",
       "| <!--/--> | terminos &lt;chr&gt; | frecuencia &lt;dbl&gt; | densidad &lt;dbl&gt; | ocurrencias &lt;dbl&gt; |\n",
       "|---|---|---|---|---|\n",
       "| 1 | able     |  37 | 5.498833e-04 | 0.110 |\n",
       "| 2 | address  | 193 | 2.868310e-03 | 0.295 |\n",
       "| 3 | also     | 102 | 1.515895e-03 | 0.160 |\n",
       "| 4 | always   |  34 | 5.052982e-04 | 0.080 |\n",
       "| 5 | audio    |   2 | 2.972342e-05 | 0.010 |\n",
       "| 6 | awaiting |   2 | 2.972342e-05 | 0.010 |\n",
       "\n"
      ],
      "text/plain": [
       "  terminos frecuencia densidad     ocurrencias\n",
       "1 able      37        5.498833e-04 0.110      \n",
       "2 address  193        2.868310e-03 0.295      \n",
       "3 also     102        1.515895e-03 0.160      \n",
       "4 always    34        5.052982e-04 0.080      \n",
       "5 audio      2        2.972342e-05 0.010      \n",
       "6 awaiting   2        2.972342e-05 0.010      "
      ]
     },
     "metadata": {},
     "output_type": "display_data"
    }
   ],
   "source": [
    "head(df_spam)"
   ]
  },
  {
   "cell_type": "markdown",
   "metadata": {},
   "source": [
    "### Easy ham"
   ]
  },
  {
   "cell_type": "code",
   "execution_count": 10,
   "metadata": {},
   "outputs": [],
   "source": [
    "easy_ham_TDM <- obtiene_TermDocumentMatrix(todo_easy_ham)\n",
    "\n",
    "# Crea un data frame que provee el conjunto de caracteristicas de los datos de entrenamiento easy ham\n",
    "matriz_easy_ham <- as.matrix(easy_ham_TDM)\n",
    "\n",
    "conteos_easy_ham <- rowSums(matriz_easy_ham)\n",
    "df_easy_ham <- data.frame(cbind(names(conteos_easy_ham),\n",
    "                            as.numeric(conteos_easy_ham)),\n",
    "                      stringsAsFactors = FALSE)\n",
    "names(df_easy_ham) <- c(\"terminos\", \"frecuencia\")\n",
    "df_easy_ham$frecuencia <- as.numeric(df_easy_ham$frecuencia)\n",
    "ocurrencias_easy_ham <- sapply(1:nrow(matriz_easy_ham),\n",
    "                           function(i) # Obtiene la proporcion de documentos que contiene cada palabra\n",
    "                           {\n",
    "                             length(which(matriz_easy_ham[i, ] > 0)) / ncol(matriz_easy_ham)\n",
    "                           })\n",
    "densidad_easy_ham <- df_easy_ham$frecuencia/sum(df_easy_ham$frecuencia,na.rm = TRUE)\n",
    "\n",
    "df_easy_ham <- transform(df_easy_ham,\n",
    "                     densidad = densidad_easy_ham,\n",
    "                     ocurrencias = ocurrencias_easy_ham)"
   ]
  },
  {
   "cell_type": "markdown",
   "metadata": {},
   "source": [
    "## Cálculo de probabilidad a posteriori"
   ]
  },
  {
   "cell_type": "code",
   "execution_count": 11,
   "metadata": {},
   "outputs": [],
   "source": [
    "a_posteriori <- function(trayectoria, df_entrenamiento, a_priori = 0.5, c = 1e-6)\n",
    "{\n",
    "  mensaje <- lee_mensaje(trayectoria)\n",
    "  mensaje <- enc2utf8(mensaje)\n",
    "  mensaje_TDM <- obtiene_TermDocumentMatrix(mensaje)\n",
    "  conteos_mensaje <- rowSums(as.matrix(mensaje_TDM))\n",
    "\n",
    "  # Encuentra palabras en data frame de entrenamiento\n",
    "  mensaje_palabras_comunes <- intersect(names(conteos_mensaje), df_entrenamiento$terminos)\n",
    "  \n",
    "  # Ahora sólo aplicamos la clasificación Bayes ingenuo\n",
    "  if(length(mensaje_palabras_comunes) < 1)\n",
    "  {\n",
    "    #return(a_priori * c ^ (length(conteos_mensaje)))\n",
    "    return(log(a_priori) + (length(conteos_mensaje)) *log(c))\n",
    "  }\n",
    "  else\n",
    "  {\n",
    "    probabilidades_palabras_comunes <- df_entrenamiento$densidad[match(mensaje_palabras_comunes, df_entrenamiento$terminos)]\n",
    "    #return(a_priori * prod(probabilidades_palabras_comunes) * c ^ (length(conteos_mensaje) - length(mensaje_palabras_comunes)))\n",
    "    return(log(a_priori) + sum(log(probabilidades_palabras_comunes)) + log(c) * (length(conteos_mensaje) - length(mensaje_palabras_comunes)))\n",
    "  }\n",
    "}"
   ]
  },
  {
   "cell_type": "markdown",
   "metadata": {},
   "source": [
    "## Clasificación"
   ]
  },
  {
   "cell_type": "code",
   "execution_count": 12,
   "metadata": {},
   "outputs": [],
   "source": [
    "clasifica_spam <- function(trayectoria, archivos) {\n",
    "\n",
    "  hard_ham_spam_prueba <- sapply(archivos,\n",
    "                             function(p) a_posteriori(file.path(trayectoria, p), df_entrenamiento = df_spam))\n",
    "  hard_ham_ham_prueba <- sapply(archivos,\n",
    "                            function(p) a_posteriori(file.path(trayectoria, p), df_entrenamiento = df_easy_ham))\n",
    "  \n",
    "  return (ifelse(hard_ham_spam_prueba > hard_ham_ham_prueba,\n",
    "                        TRUE,\n",
    "                        FALSE))\n",
    "}"
   ]
  },
  {
   "cell_type": "markdown",
   "metadata": {},
   "source": [
    "### Hard ham"
   ]
  },
  {
   "cell_type": "code",
   "execution_count": 13,
   "metadata": {},
   "outputs": [],
   "source": [
    "# Leemos el directorio donde se encuentran los correos clasificados como ham dificlmente identificables\n",
    "archivos_correos_hard_ham <- dir(trayectoria_hardham)\n",
    "\n",
    "# quitamos el guión llamado cmds\n",
    "archivos_correos_hard_ham <- archivos_correos_hard_ham[which(archivos_correos_hard_ham!=\"cmds\")]\n",
    "archivos_correos_hard_ham<-archivos_correos_hard_ham[sample(50)]"
   ]
  },
  {
   "cell_type": "code",
   "execution_count": 14,
   "metadata": {},
   "outputs": [],
   "source": [
    "hard_ham_res <- clasifica_spam(trayectoria_hardham, archivos_correos_hard_ham)\n",
    "easy_ham_res <- clasifica_spam(trayectoria_easyham, archivos_correos_easy_ham_testing)\n",
    "spam_res     <- clasifica_spam(trayectoria_spam,    archivos_correos_spam_testing)"
   ]
  },
  {
   "cell_type": "markdown",
   "metadata": {},
   "source": [
    "## Resultados"
   ]
  },
  {
   "cell_type": "code",
   "execution_count": 15,
   "metadata": {},
   "outputs": [
    {
     "data": {
      "text/plain": [
       "   Mode   FALSE \n",
       "logical      50 "
      ]
     },
     "metadata": {},
     "output_type": "display_data"
    },
    {
     "data": {
      "text/plain": [
       "   Mode    TRUE \n",
       "logical      50 "
      ]
     },
     "metadata": {},
     "output_type": "display_data"
    },
    {
     "data": {
      "text/plain": [
       "   Mode   FALSE    TRUE \n",
       "logical       1      49 "
      ]
     },
     "metadata": {},
     "output_type": "display_data"
    }
   ],
   "source": [
    "summary(easy_ham_res)\n",
    "summary(spam_res)\n",
    "summary(hard_ham_res)"
   ]
  },
  {
   "cell_type": "markdown",
   "metadata": {},
   "source": [
    "# Tarea\n"
   ]
  },
  {
   "cell_type": "markdown",
   "metadata": {},
   "source": [
    "## Spam"
   ]
  },
  {
   "cell_type": "code",
   "execution_count": 20,
   "metadata": {},
   "outputs": [],
   "source": [
    "archivos_correos_spam <- dir(trayectoria_spam) #vector con todos los archivos que estan en ese subdirectorio\n",
    "\n",
    "# quitamos el guión llamado cmds\n",
    "archivos_correos_spam <- archivos_correos_spam[which(archivos_correos_spam!=\"cmds\")] #[1:250]\n",
    "\n",
    "archivos_correos_spam <- archivos_correos_spam[sample(1:length(archivos_correos_spam))]\n",
    "archivos_correos_spam_training <- archivos_correos_spam[1:200]\n",
    "archivos_correos_spam_testing <- archivos_correos_spam[201:250]\n",
    "\n",
    "todo_spam <- sapply(archivos_correos_spam_training,\n",
    "                    function(p) lee_mensaje(file.path(trayectoria_spam, p))) #hacer una funcion vectorizada y usar una función intermediaria \n",
    "\n",
    "todo_spam <- enc2utf8(todo_spam)\n"
   ]
  },
  {
   "cell_type": "code",
   "execution_count": 21,
   "metadata": {},
   "outputs": [],
   "source": [
    "spam_TDM <- obtiene_TermDocumentMatrix(todo_spam)\n",
    "\n",
    "# Crea un data frame que provee el conjunto de caracteristicas de los datos de entrenamiento SPAM\n",
    "matriz_spam <- as.matrix(spam_TDM) #convertirla en matriz de R\n",
    "\n",
    "conteos_spam <- rowSums(matriz_spam)\n",
    "df_spam <- data.frame(cbind(names(conteos_spam),\n",
    "                            as.numeric(conteos_spam)),\n",
    "                      stringsAsFactors = FALSE)\n",
    "names(df_spam) <- c(\"terminos\", \"frecuencia\")\n",
    "df_spam$frecuencia <- as.numeric(df_spam$frecuencia)\n",
    "ocurrencias_spam <- sapply(1:nrow(matriz_spam),\n",
    "                           function(i) # Obtiene la proporcion de documentos que contiene cada palabra\n",
    "                           {\n",
    "                             length(which(matriz_spam[i, ] > 0)) / ncol(matriz_spam)\n",
    "                           })\n",
    "densidad_spam <- df_spam$frecuencia/sum(df_spam$frecuencia,na.rm = TRUE) #na.rm quita na\n",
    "\n",
    "df_spam <- transform(df_spam,\n",
    "                     densidad = densidad_spam,\n",
    "                     ocurrencias = ocurrencias_spam)\n",
    "\n"
   ]
  },
  {
   "cell_type": "markdown",
   "metadata": {},
   "source": [
    "## Easy Ham"
   ]
  },
  {
   "cell_type": "code",
   "execution_count": 47,
   "metadata": {},
   "outputs": [],
   "source": [
    "archivos_correos_easy_ham <- dir(trayectoria_easyham)\n",
    "\n",
    "# quitamos el guión llamado cmds\n",
    "archivos_correos_easy_ham <- archivos_correos_easy_ham[which(archivos_correos_easy_ham!=\"cmds\")] #[1:250]\n",
    "\n",
    "archivos_correos_easy_ham <- archivos_correos_easy_ham[sample(1:length(archivos_correos_easy_ham))]\n",
    "archivos_correos_easy_ham_training <- archivos_correos_easy_ham[1:200]\n",
    "archivos_correos_easy_ham_testing <- archivos_correos_easy_ham[201:250]\n",
    "\n",
    "todo_easy_ham <- sapply(archivos_correos_easy_ham_training,\n",
    "                        function(p) lee_mensaje(file.path(trayectoria_easyham, p)))\n",
    "\n",
    "todo_easy_ham <- enc2utf8(todo_easy_ham)"
   ]
  },
  {
   "cell_type": "code",
   "execution_count": 48,
   "metadata": {},
   "outputs": [],
   "source": [
    "easy_ham_TDM <- obtiene_TermDocumentMatrix(todo_easy_ham)\n",
    "\n",
    "# Crea un data frame que provee el conjunto de caracteristicas de los datos de entrenamiento easy ham\n",
    "\n",
    "matriz_easy_ham <- as.matrix(easy_ham_TDM)\n",
    "\n",
    "conteos_easy_ham <- rowSums(matriz_easy_ham)\n",
    "df_easy_ham <- data.frame(cbind(names(conteos_easy_ham),\n",
    "                                as.numeric(conteos_easy_ham)),\n",
    "                          stringsAsFactors = FALSE)\n",
    "names(df_easy_ham) <- c(\"terminos\", \"frecuencia\")\n",
    "df_easy_ham$frecuencia <- as.numeric(df_easy_ham$frecuencia)\n",
    "ocurrencias_easy_ham <- sapply(1:nrow(matriz_easy_ham),\n",
    "                               function(i) # Obtiene la proporcion de documentos que contiene cada palabra\n",
    "                               {\n",
    "                                 length(which(matriz_easy_ham[i, ] > 0)) / ncol(matriz_easy_ham)\n",
    "                               })\n",
    "densidad_easy_ham <- df_easy_ham$frecuencia/sum(df_easy_ham$frecuencia,na.rm = TRUE)\n",
    "\n",
    "df_easy_ham <- transform(df_easy_ham,\n",
    "                         densidad = densidad_easy_ham,\n",
    "                         ocurrencias = ocurrencias_easy_ham)\n"
   ]
  },
  {
   "cell_type": "markdown",
   "metadata": {},
   "source": [
    "## Hard Ham"
   ]
  },
  {
   "cell_type": "code",
   "execution_count": 49,
   "metadata": {},
   "outputs": [],
   "source": [
    "\n",
    "\n",
    "archivos_correos_hard_ham <- dir(trayectoria_hardham)\n",
    "archivos_correos_hard_ham <- archivos_correos_hard_ham[which(archivos_correos_hard_ham!=\"cmds\")] #[1:250]\n",
    "\n",
    "archivos_correos_hard_ham <- archivos_correos_hard_ham[sample(1:length(archivos_correos_hard_ham))]\n",
    "archivos_correos_hard_ham_training <- archivos_correos_hard_ham[1:200]\n",
    "archivos_correos_hard_ham_testing <- archivos_correos_hard_ham[201:length(archivos_correos_hard_ham)]\n",
    "\n",
    "trayectoria_hardham  <- file.path(dir_name, \"hard_ham\")\n",
    "\n",
    "todo_hard_ham <- sapply(archivos_correos_hard_ham_training,\n",
    "                        function(p) lee_mensaje(file.path(trayectoria_hardham, p)))\n",
    "\n",
    "\n",
    "todo_hard_ham <- enc2utf8(todo_hard_ham)\n",
    "\n",
    "\n",
    "\n"
   ]
  },
  {
   "cell_type": "code",
   "execution_count": 50,
   "metadata": {},
   "outputs": [],
   "source": [
    "hard_ham_TDM <- obtiene_TermDocumentMatrix(todo_hard_ham)\n",
    "\n",
    "matriz_hard_ham <- as.matrix(hard_ham_TDM)\n",
    "\n",
    "conteos_hard_ham <- rowSums(matriz_hard_ham)\n",
    "df_hard_ham <- data.frame(cbind(names(conteos_hard_ham),\n",
    "                                as.numeric(conteos_hard_ham)),\n",
    "                          stringsAsFactors = FALSE)\n",
    "names(df_hard_ham) <- c(\"terminos\", \"frecuencia\")\n",
    "df_hard_ham$frecuencia <- as.numeric(df_hard_ham$frecuencia)\n",
    "ocurrencias_hard_ham <- sapply(1:nrow(matriz_hard_ham),\n",
    "                               function(i)\n",
    "                               {\n",
    "                                 length(which(matriz_hard_ham[i, ] > 0)) / ncol(matriz_hard_ham)\n",
    "                               })\n",
    "densidad_hard_ham <- df_hard_ham$frecuencia/sum(df_hard_ham$frecuencia,na.rm = TRUE)\n",
    "\n",
    "df_hard_ham <- transform(df_hard_ham,\n",
    "                         densidad = densidad_hard_ham,\n",
    "                         ocurrencias = ocurrencias_hard_ham)\n"
   ]
  },
  {
   "cell_type": "markdown",
   "metadata": {},
   "source": [
    "## Training"
   ]
  },
  {
   "cell_type": "code",
   "execution_count": 51,
   "metadata": {},
   "outputs": [],
   "source": [
    "hard_ham_res2 <- clasifica_spam(trayectoria_hardham, archivos_correos_hard_ham_testing)\n",
    "easy_ham_res2 <- clasifica_spam(trayectoria_easyham, archivos_correos_easy_ham)\n",
    "spam_res2     <- clasifica_spam(trayectoria_spam,    archivos_correos_spam_testing)"
   ]
  },
  {
   "cell_type": "code",
   "execution_count": 52,
   "metadata": {},
   "outputs": [
    {
     "data": {
      "text/plain": [
       "   Mode   FALSE    TRUE \n",
       "logical      21      29 "
      ]
     },
     "metadata": {},
     "output_type": "display_data"
    },
    {
     "data": {
      "text/plain": [
       "   Mode   FALSE    TRUE \n",
       "logical    1385      15 "
      ]
     },
     "metadata": {},
     "output_type": "display_data"
    },
    {
     "data": {
      "text/plain": [
       "   Mode   FALSE    TRUE \n",
       "logical       5      45 "
      ]
     },
     "metadata": {},
     "output_type": "display_data"
    }
   ],
   "source": [
    "summary(hard_ham_res2)\n",
    "summary(easy_ham_res2)\n",
    "summary(spam_res2)"
   ]
  },
  {
   "cell_type": "markdown",
   "metadata": {},
   "source": [
    "## Argumento Máximo"
   ]
  },
  {
   "cell_type": "code",
   "execution_count": 53,
   "metadata": {},
   "outputs": [
    {
     "name": "stdout",
     "output_type": "stream",
     "text": [
      "\n",
      "The downloaded binary packages are in\n",
      "\t/var/folders/9j/5g2kcd8x5y1gth6pxchhjdp80000gn/T//RtmpYs7l6l/downloaded_packages\n"
     ]
    }
   ],
   "source": [
    "install.packages('ramify', dependencies = TRUE, repos='http://cran.rstudio.com/')"
   ]
  },
  {
   "cell_type": "code",
   "execution_count": 54,
   "metadata": {},
   "outputs": [],
   "source": [
    "library(ramify)"
   ]
  },
  {
   "cell_type": "code",
   "execution_count": 55,
   "metadata": {},
   "outputs": [],
   "source": [
    "clasifica_spam_max <- function (trayectoria, archivos) {\n",
    "    spam_prueba <- sapply(archivos,\n",
    "                        function (p) a_posteriori(file.path(trayectoria, p), df_entrenamiento = df_spam))\n",
    "    ham_prueba <- sapply(archivos,\n",
    "                        function(p)  a_posteriori(file.path(trayectoria, p), df_entrenamiento = df_easy_ham))\n",
    "    hard_ham_prueba <- sapply(archivos,\n",
    "                        function (p) a_posteriori(file.path(trayectoria, p), df_entrenamiento = df_hard_ham))\n",
    "    x=matrix(c(ham_prueba, hard_ham_prueba, spam_prueba), nrow=length(ham_prueba))\n",
    "    return (as.factor(argmax(x)))\n",
    "}"
   ]
  },
  {
   "cell_type": "code",
   "execution_count": 56,
   "metadata": {},
   "outputs": [],
   "source": [
    "\n",
    "easy_ham_max_res2 <- clasifica_spam_max(trayectoria_easyham, archivos_correos_easy_ham_testing)\n",
    "hard_ham_max_res2 <- clasifica_spam_max(trayectoria_hardham, archivos_correos_hard_ham_testing)\n",
    "spam_res_max2    <- clasifica_spam_max(trayectoria_spam,    archivos_correos_spam_testing)"
   ]
  },
  {
   "cell_type": "code",
   "execution_count": 57,
   "metadata": {},
   "outputs": [
    {
     "data": {
      "text/html": [
       "<style>\n",
       ".dl-inline {width: auto; margin:0; padding: 0}\n",
       ".dl-inline>dt, .dl-inline>dd {float: none; width: auto; display: inline-block}\n",
       ".dl-inline>dt::after {content: \":\\0020\"; padding-right: .5ex}\n",
       ".dl-inline>dt:not(:first-of-type) {padding-left: .5ex}\n",
       "</style><dl class=dl-inline><dt>1</dt><dd>47</dd><dt>2</dt><dd>3</dd></dl>\n"
      ],
      "text/latex": [
       "\\begin{description*}\n",
       "\\item[1] 47\n",
       "\\item[2] 3\n",
       "\\end{description*}\n"
      ],
      "text/markdown": [
       "1\n",
       ":   472\n",
       ":   3\n",
       "\n"
      ],
      "text/plain": [
       " 1  2 \n",
       "47  3 "
      ]
     },
     "metadata": {},
     "output_type": "display_data"
    },
    {
     "data": {
      "text/html": [
       "<style>\n",
       ".dl-inline {width: auto; margin:0; padding: 0}\n",
       ".dl-inline>dt, .dl-inline>dd {float: none; width: auto; display: inline-block}\n",
       ".dl-inline>dt::after {content: \":\\0020\"; padding-right: .5ex}\n",
       ".dl-inline>dt:not(:first-of-type) {padding-left: .5ex}\n",
       "</style><dl class=dl-inline><dt>1</dt><dd>9</dd><dt>2</dt><dd>38</dd><dt>3</dt><dd>3</dd></dl>\n"
      ],
      "text/latex": [
       "\\begin{description*}\n",
       "\\item[1] 9\n",
       "\\item[2] 38\n",
       "\\item[3] 3\n",
       "\\end{description*}\n"
      ],
      "text/markdown": [
       "1\n",
       ":   92\n",
       ":   383\n",
       ":   3\n",
       "\n"
      ],
      "text/plain": [
       " 1  2  3 \n",
       " 9 38  3 "
      ]
     },
     "metadata": {},
     "output_type": "display_data"
    },
    {
     "data": {
      "text/html": [
       "<style>\n",
       ".dl-inline {width: auto; margin:0; padding: 0}\n",
       ".dl-inline>dt, .dl-inline>dd {float: none; width: auto; display: inline-block}\n",
       ".dl-inline>dt::after {content: \":\\0020\"; padding-right: .5ex}\n",
       ".dl-inline>dt:not(:first-of-type) {padding-left: .5ex}\n",
       "</style><dl class=dl-inline><dt>1</dt><dd>5</dd><dt>2</dt><dd>2</dd><dt>3</dt><dd>43</dd></dl>\n"
      ],
      "text/latex": [
       "\\begin{description*}\n",
       "\\item[1] 5\n",
       "\\item[2] 2\n",
       "\\item[3] 43\n",
       "\\end{description*}\n"
      ],
      "text/markdown": [
       "1\n",
       ":   52\n",
       ":   23\n",
       ":   43\n",
       "\n"
      ],
      "text/plain": [
       " 1  2  3 \n",
       " 5  2 43 "
      ]
     },
     "metadata": {},
     "output_type": "display_data"
    }
   ],
   "source": [
    "summary(easy_ham_max_res2)\n",
    "summary(hard_ham_max_res2)\n",
    "summary(spam_res_max2)"
   ]
  },
  {
   "cell_type": "markdown",
   "metadata": {},
   "source": [
    "El objetivo de este estudio es ver si realmente hay una diferencia entre entrenar el modelo con los correos de esay_ham o con el hard_ham y easy_harm. Para poder tener la misma significancia solo vamos a entrenar los modelos con 200 correos y hacer la prueba con 50 correos.\n",
    "\n",
    "Los resultados obtenidos en este estudio, a primer instante, da la impresión de ser muy diferentes. Cuando uno se fija en el primer experimento (aquel en el que se toma easy_ham), tenemos que logra clasificar los correos de forma muy eficiente teniendo un solo error en el spam. Por el otro lado, cuando usamos el entrenamiento en el hard_harm  y easy_harm obtenemos a primera impresión resultados malos, pero una vez que aplicamos la funcion argmax, nos damos cuenta que realmente no es nada malo. Vemos que a primera instancia que el mayor error se genera en los correos hard y cuando aplicamos la funcion argmax, nos damos cuenta que la mayoría de los errores se van a easy_ham que en realidad no es incorrecto. Si solo tuvieramos dos clases: ham o spam, entonces los resultados serían muy parecidos.\n",
    "\n",
    "A este estudio le faltaría agragar más correos hard_ham para así poder aumentar nuestro modelo de aprendizaje, agregar más palabras, y poder hacer el testing con más datos para poder obtener resultados más significativos y poder determinar puntualmente si realmente existe una gran diferencia con entrenar los modelos de forma diferente."
   ]
  },
  {
   "cell_type": "code",
   "execution_count": null,
   "metadata": {},
   "outputs": [],
   "source": []
  }
 ],
 "metadata": {
  "kernelspec": {
   "display_name": "R",
   "language": "R",
   "name": "ir"
  },
  "language_info": {
   "codemirror_mode": "r",
   "file_extension": ".r",
   "mimetype": "text/x-r-source",
   "name": "R",
   "pygments_lexer": "r",
   "version": "4.1.3"
  }
 },
 "nbformat": 4,
 "nbformat_minor": 2
}
